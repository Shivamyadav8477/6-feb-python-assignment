{
 "cells": [
  {
   "cell_type": "code",
   "execution_count": null,
   "id": "89c00e14-5ceb-4f80-8dcf-aa8f30a05564",
   "metadata": {},
   "outputs": [],
   "source": [
    "Q1. Create a function which will take a list as an argument and return the product of all the numbers\n",
    "after creating a flat list.\n",
    "Use the below-given list as an argument for your function."
   ]
  },
  {
   "cell_type": "code",
   "execution_count": 1,
   "id": "cdcfd4b5-1fde-4d01-9a8f-858461d41a8f",
   "metadata": {},
   "outputs": [],
   "source": [
    "list1 = [1,2,3,4, [44,55,66, True], False, (34,56,78,89,34), {1,2,3,3,2,1}, {1:34, \"key2\": [55, 67, 78, 89], 4: (45,\n",
    "22, 61, 34)}, [56, 'data science'], 'Machine Learning']"
   ]
  },
  {
   "cell_type": "code",
   "execution_count": 3,
   "id": "f546a247-fe87-4175-85f3-0c76d8a78c25",
   "metadata": {},
   "outputs": [
    {
     "name": "stdout",
     "output_type": "stream",
     "text": [
      "0\n"
     ]
    }
   ],
   "source": [
    "def extract_numeric_values(item):\n",
    "    if isinstance(item, (int, float)):\n",
    "        return [item]\n",
    "    elif isinstance(item, list):\n",
    "        result = []\n",
    "        for element in item:\n",
    "            result.extend(extract_numeric_values(element))\n",
    "        return result\n",
    "    elif isinstance(item, dict):\n",
    "        result = []\n",
    "        for key, value in item.items():\n",
    "            result.extend(extract_numeric_values(key))\n",
    "            result.extend(extract_numeric_values(value))\n",
    "        return result\n",
    "    else:\n",
    "        return []\n",
    "\n",
    "def product_of_all_numbers(input_list):\n",
    "    flat_list = extract_numeric_values(input_list)\n",
    "    product = 1\n",
    "    for number in flat_list:\n",
    "        product *= number\n",
    "    return product\n",
    "\n",
    "list1 = [1, 2, 3, 4, [44, 55, 66, True], False, (34, 56, 78, 89, 34), {1, 2, 3, 3, 2, 1}, {1: 34, \"key2\": [55, 67, 78, 89], 4: (45, 22, 61, 34)}, [56, 'data science'], 'Machine Learning']\n",
    "\n",
    "result = product_of_all_numbers(list1)\n",
    "print(result)\n"
   ]
  },
  {
   "cell_type": "code",
   "execution_count": null,
   "id": "2dacc25d-ad2f-4a74-9016-beaa393173b3",
   "metadata": {},
   "outputs": [],
   "source": [
    "qustion - 2"
   ]
  },
  {
   "cell_type": "code",
   "execution_count": 19,
   "id": "d49fb937-bf62-490d-be90-c54ed60114cb",
   "metadata": {},
   "outputs": [
    {
     "name": "stdin",
     "output_type": "stream",
     "text": [
      "Enter the message I want to become a Data Scientist.\n"
     ]
    },
    {
     "name": "stdout",
     "output_type": "stream",
     "text": [
      "Encrypted message: r$dzmg$gl$yvxlnv$z$wzgz$hxrvmgrhg.\n"
     ]
    }
   ],
   "source": [
    "def encrypt_message(message):\n",
    "    encrypted_message = \"\"\n",
    "    for char in message:\n",
    "        if char.isalpha(): \n",
    "            lowercase_char = char.lower()\n",
    "            encrypted_char = chr(ord('z') - (ord(lowercase_char) - ord('a')))\n",
    "            encrypted_message += encrypted_char\n",
    "        elif char.isspace():  \n",
    "            encrypted_message += \"$\"\n",
    "        else:  \n",
    "            encrypted_message += char\n",
    "\n",
    "    return encrypted_message\n",
    "\n",
    "\n",
    "def main():\n",
    "    input_sentence = input(\"Enter the message\")\n",
    "    lowercase_input = input_sentence.lower()\n",
    "    encrypted_message = encrypt_message(lowercase_input)\n",
    "    print(\"Encrypted message:\", encrypted_message)\n",
    "\n",
    "\n",
    "if __name__ == \"__main__\":\n",
    "    main()\n"
   ]
  }
 ],
 "metadata": {
  "kernelspec": {
   "display_name": "Python 3 (ipykernel)",
   "language": "python",
   "name": "python3"
  },
  "language_info": {
   "codemirror_mode": {
    "name": "ipython",
    "version": 3
   },
   "file_extension": ".py",
   "mimetype": "text/x-python",
   "name": "python",
   "nbconvert_exporter": "python",
   "pygments_lexer": "ipython3",
   "version": "3.10.6"
  }
 },
 "nbformat": 4,
 "nbformat_minor": 5
}
